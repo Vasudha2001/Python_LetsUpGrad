{
 "cells": [
  {
   "cell_type": "markdown",
   "metadata": {},
   "source": [
    "# ASSIGNMENT DAY 6"
   ]
  },
  {
   "cell_type": "markdown",
   "metadata": {},
   "source": [
    "## QUESTION 1:"
   ]
  },
  {
   "cell_type": "code",
   "execution_count": 1,
   "metadata": {},
   "outputs": [
    {
     "name": "stdout",
     "output_type": "stream",
     "text": [
      "\n",
      "Account Holder Name is : AJAY M\n",
      "\n",
      "Initial Account Balance is : 0\n",
      "\n",
      "Enter amount to be Deposited : 6000\n",
      "\n",
      "Amount Deposited is : 6000.0\n",
      "\n",
      "Enter amount to be Withdrawn : 2000\n",
      "\n",
      "You have Withdrew : 2000.0\n",
      "\n",
      "Net Avaliable balance is :  4000.0\n"
     ]
    }
   ],
   "source": [
    "class BankAccount: \n",
    "\n",
    "    def __init__(self): \n",
    "\n",
    "        self.ownerName=\"AJAY M\"\n",
    "        \n",
    "        self.Balance=0\n",
    "        \n",
    "    def deposit(self): \n",
    "        \n",
    "        Amount=float(input(\"\\nEnter amount to be Deposited : \")) \n",
    "        \n",
    "        self.Balance += Amount \n",
    "        \n",
    "        print(\"\\nAmount Deposited is :\",Amount) \n",
    "  \n",
    "    def withdraw(self): \n",
    "        \n",
    "        Amount = float(input(\"\\nEnter amount to be Withdrawn : \")) \n",
    "        \n",
    "        if self.Balance >= Amount: \n",
    "        \n",
    "            self.Balance -= Amount \n",
    "            \n",
    "            print(\"\\nYou have Withdrew :\", Amount) \n",
    "        \n",
    "        else: \n",
    "        \n",
    "            print(\"\\nInsufficient balance in the account...\")\n",
    "            print(\"\\n---WELCOME TO BACK ACCOUNT PROGRAM---\")\n",
    "    \n",
    "BA = BankAccount()\n",
    "\n",
    "print(\"\\nAccount Holder Name is :\",BA.ownerName)\n",
    "    \n",
    "print(\"\\nInitial Account Balance is :\",BA.Balance)\n",
    "   \n",
    "BA.deposit();\n",
    "    \n",
    "BA.withdraw();\n",
    "    \n",
    "print(\"\\nNet Avaliable balance is : \",BA.Balance)"
   ]
  },
  {
   "cell_type": "markdown",
   "metadata": {},
   "source": [
    "## Question 2:"
   ]
  },
  {
   "cell_type": "code",
   "execution_count": 3,
   "metadata": {},
   "outputs": [
    {
     "name": "stdout",
     "output_type": "stream",
     "text": [
      "\n",
      "Enter the radius of cone : 5\n",
      "\n",
      "Enter the height of cone : 8\n",
      "\n",
      "Volume Of Cone is : 209.43951023931953\n",
      "\n",
      "Surface Area Of Cone is : 204.20352248333654\n"
     ]
    }
   ],
   "source": [
    "import math\n",
    "\n",
    "pi = math.pi\n",
    "\n",
    "class cone:\n",
    "    \n",
    "    def __init__(self,r,h): \n",
    "\n",
    "        self.r=r\n",
    "        \n",
    "        self.h=h\n",
    "        \n",
    "    def volume(self):\n",
    "        \n",
    "        result = (1 / 3) * pi * self.r * self.r * self.h\n",
    "        \n",
    "        print(\"\\nVolume Of Cone is :\",result)\n",
    "        \n",
    "    def surfacearea(self):\n",
    "        \n",
    "        result = pi * self.r * self.h + pi * self.r * self.r\n",
    "         \n",
    "        print(\"\\nSurface Area Of Cone is :\",result)\n",
    "\n",
    "ra = float(input(\"\\nEnter the radius of cone : \"))\n",
    "\n",
    "he = float(input(\"\\nEnter the height of cone : \"))\n",
    "\n",
    "c = cone( ra, he)\n",
    "\n",
    "c.volume()\n",
    "\n",
    "c.surfacearea()"
   ]
  },
  {
   "cell_type": "code",
   "execution_count": null,
   "metadata": {},
   "outputs": [],
   "source": []
  }
 ],
 "metadata": {
  "kernelspec": {
   "display_name": "Python 3",
   "language": "python",
   "name": "python3"
  },
  "language_info": {
   "codemirror_mode": {
    "name": "ipython",
    "version": 3
   },
   "file_extension": ".py",
   "mimetype": "text/x-python",
   "name": "python",
   "nbconvert_exporter": "python",
   "pygments_lexer": "ipython3",
   "version": "3.8.3"
  }
 },
 "nbformat": 4,
 "nbformat_minor": 4
}
